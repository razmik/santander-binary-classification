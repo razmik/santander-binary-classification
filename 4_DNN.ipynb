{
  "nbformat": 4,
  "nbformat_minor": 0,
  "metadata": {
    "colab": {
      "name": "4_DNN.ipynb",
      "provenance": [],
      "collapsed_sections": [],
      "toc_visible": true,
      "machine_shape": "hm"
    },
    "kernelspec": {
      "name": "python3",
      "display_name": "Python 3"
    }
  },
  "cells": [
    {
      "cell_type": "markdown",
      "metadata": {
        "id": "i9VWWdBLXKEt",
        "colab_type": "text"
      },
      "source": [
        "# Propensity modeling for Santander Customer Transaction\n"
      ]
    },
    {
      "cell_type": "markdown",
      "metadata": {
        "id": "CVx2nAWMfWwp",
        "colab_type": "text"
      },
      "source": [
        "## Importing libraries\n",
        "\n"
      ]
    },
    {
      "cell_type": "code",
      "metadata": {
        "id": "FnhFBcqSFkcS",
        "colab_type": "code",
        "colab": {
          "base_uri": "https://localhost:8080/",
          "height": 125
        },
        "outputId": "6b634740-897b-4574-e8df-a44f44d9b51e"
      },
      "source": [
        "from google.colab import drive\n",
        "drive.mount('/content/drive')"
      ],
      "execution_count": 2,
      "outputs": [
        {
          "output_type": "stream",
          "text": [
            "Go to this URL in a browser: https://accounts.google.com/o/oauth2/auth?client_id=947318989803-6bn6qk8qdgf4n4g3pfee6491hc0brc4i.apps.googleusercontent.com&redirect_uri=urn%3aietf%3awg%3aoauth%3a2.0%3aoob&scope=email%20https%3a%2f%2fwww.googleapis.com%2fauth%2fdocs.test%20https%3a%2f%2fwww.googleapis.com%2fauth%2fdrive%20https%3a%2f%2fwww.googleapis.com%2fauth%2fdrive.photos.readonly%20https%3a%2f%2fwww.googleapis.com%2fauth%2fpeopleapi.readonly&response_type=code\n",
            "\n",
            "Enter your authorization code:\n",
            "··········\n",
            "Mounted at /content/drive\n"
          ],
          "name": "stdout"
        }
      ]
    },
    {
      "cell_type": "code",
      "metadata": {
        "id": "8LgszbVDdSPX",
        "colab_type": "code",
        "colab": {}
      },
      "source": [
        "import pandas as pd\n",
        "from tqdm import tqdm\n",
        "from datetime import datetime\n",
        "import missingno as msno\n",
        "import numpy as np\n",
        "import time\n",
        "import gc\n",
        "\n",
        "from sklearn.preprocessing import MinMaxScaler\n",
        "from sklearn.model_selection import train_test_split\n",
        "from sklearn.metrics import roc_auc_score, make_scorer, classification_report, confusion_matrix, roc_curve\n",
        "import matplotlib.pyplot as plt\n",
        "import seaborn as sns\n",
        "%matplotlib inline\n",
        "\n",
        "import tensorflow as tf\n",
        "\n",
        "from tensorflow.keras.models import Sequential\n",
        "from tensorflow.keras.layers import Dense, Dropout\n",
        "from tensorflow.keras import backend as K\n",
        "from tensorflow.keras.layers import Layer\n",
        "from tensorflow.keras.regularizers import L1L2\n",
        "from tensorflow.keras.callbacks import ModelCheckpoint, EarlyStopping, ReduceLROnPlateau\n",
        "\n",
        "from imblearn import keras\n",
        "from imblearn.keras import BalancedBatchGenerator\n",
        "from imblearn.over_sampling import RandomOverSampler"
      ],
      "execution_count": 41,
      "outputs": []
    },
    {
      "cell_type": "markdown",
      "metadata": {
        "id": "bhvd0iAkHsrM",
        "colab_type": "text"
      },
      "source": [
        "## Loading and optimizing data"
      ]
    },
    {
      "cell_type": "code",
      "metadata": {
        "id": "QhmAhxLsGAl8",
        "colab_type": "code",
        "colab": {}
      },
      "source": [
        "def reduce_mem_usage(df, verbose=True):\n",
        "  \"\"\" iterate through all the columns of a dataframe and modify the data type\n",
        "      to reduce memory usage.        \n",
        "  \"\"\"    \n",
        "  numerics = ['int16', 'int32', 'int64', 'float16', 'float32', 'float64']\n",
        "  start_mem = df.memory_usage().sum() / 1024**2    \n",
        "  print('Memory usage of dataframe is {:.2f} MB'.format(start_mem))    \n",
        "  \n",
        "  for col in df.columns:\n",
        "      col_type = df[col].dtypes\n",
        "      if col_type in numerics:\n",
        "          c_min = df[col].min()\n",
        "          c_max = df[col].max()\n",
        "          if str(col_type)[:3] == 'int':\n",
        "              if c_min > np.iinfo(np.int8).min and c_max < np.iinfo(np.int8).max:\n",
        "                  df[col] = df[col].astype(np.int8)\n",
        "              elif c_min > np.iinfo(np.int16).min and c_max < np.iinfo(np.int16).max:\n",
        "                  df[col] = df[col].astype(np.int16)\n",
        "              elif c_min > np.iinfo(np.int32).min and c_max < np.iinfo(np.int32).max:\n",
        "                  df[col] = df[col].astype(np.int32)\n",
        "              elif c_min > np.iinfo(np.int64).min and c_max < np.iinfo(np.int64).max:\n",
        "                  df[col] = df[col].astype(np.int64)  \n",
        "          else:\n",
        "              if c_min > np.finfo(np.float16).min and c_max < np.finfo(np.float16).max:\n",
        "                  df[col] = df[col].astype(np.float16)\n",
        "              elif c_min > np.finfo(np.float32).min and c_max < np.finfo(np.float32).max:\n",
        "                  df[col] = df[col].astype(np.float32)\n",
        "              else:\n",
        "                  df[col] = df[col].astype(np.float64)\n",
        "                  \n",
        "  end_mem = df.memory_usage().sum() / 1024**2\n",
        "  print('Memory usage after optimization is: {:.2f} MB'.format(end_mem))\n",
        "  print('Decreased by {:.1f}%'.format(100 * (start_mem - end_mem) / start_mem))\n",
        "  return df"
      ],
      "execution_count": 3,
      "outputs": []
    },
    {
      "cell_type": "code",
      "metadata": {
        "id": "_gfOoMCXF2IJ",
        "colab_type": "code",
        "colab": {
          "base_uri": "https://localhost:8080/",
          "height": 70
        },
        "outputId": "23a6925e-7a0e-40b2-d77f-f2ec15361f66"
      },
      "source": [
        "df = pd.read_csv('drive/My Drive/Colab Notebooks/Santander Customer Transaction Prediction/data/train.csv')\n",
        "df.drop(['ID_code'], axis=1, inplace=True)\n",
        "df = reduce_mem_usage(df, verbose=True)"
      ],
      "execution_count": 4,
      "outputs": [
        {
          "output_type": "stream",
          "text": [
            "Memory usage of dataframe is 306.70 MB\n",
            "Memory usage after optimization is: 76.48 MB\n",
            "Decreased by 75.1%\n"
          ],
          "name": "stdout"
        }
      ]
    },
    {
      "cell_type": "markdown",
      "metadata": {
        "id": "UBbwHnhVXEf7",
        "colab_type": "text"
      },
      "source": [
        "## Data Sampling"
      ]
    },
    {
      "cell_type": "code",
      "metadata": {
        "id": "cZxnPVbrM-Fi",
        "colab_type": "code",
        "colab": {}
      },
      "source": [
        "df_x = df.drop(['target'], axis=1)\n",
        "df_y = df[['target']]\n",
        "features = list(df_x.columns.values)\n",
        "\n",
        "X_train, X_test, Y_train, Y_test = train_test_split(df_x, df_y, shuffle=False, train_size=0.8)"
      ],
      "execution_count": 7,
      "outputs": []
    },
    {
      "cell_type": "code",
      "metadata": {
        "id": "GuCDNpaWmwxB",
        "colab_type": "code",
        "colab": {
          "base_uri": "https://localhost:8080/",
          "height": 123
        },
        "outputId": "6a2829c1-1dd5-4403-e456-7f3466e9f0b6"
      },
      "source": [
        "Y_train.target = Y_train.target.astype(np.float32)\n",
        "Y_test.target = Y_test.target.astype(np.float32)"
      ],
      "execution_count": 21,
      "outputs": [
        {
          "output_type": "stream",
          "text": [
            "/usr/local/lib/python3.6/dist-packages/pandas/core/generic.py:5303: SettingWithCopyWarning: \n",
            "A value is trying to be set on a copy of a slice from a DataFrame.\n",
            "Try using .loc[row_indexer,col_indexer] = value instead\n",
            "\n",
            "See the caveats in the documentation: https://pandas.pydata.org/pandas-docs/stable/user_guide/indexing.html#returning-a-view-versus-a-copy\n",
            "  self[name] = value\n"
          ],
          "name": "stderr"
        }
      ]
    },
    {
      "cell_type": "code",
      "metadata": {
        "id": "b3P5ub0XY0qr",
        "colab_type": "code",
        "colab": {}
      },
      "source": [
        "scaler = MinMaxScaler(feature_range=(-1, 1))\n",
        "X_train_st = scaler.fit_transform(X_train)\n",
        "X_test_st = scaler.transform(X_test)"
      ],
      "execution_count": 8,
      "outputs": []
    },
    {
      "cell_type": "code",
      "metadata": {
        "id": "FeyOkFg1czB2",
        "colab_type": "code",
        "colab": {}
      },
      "source": [
        "def evaluate(y_true, y_predicted):\n",
        "  print(\"area under the ROC curve:\", roc_auc_score(y_true, y_predicted))\n",
        "  print(classification_report(y_true, y_predicted))\n",
        "  print(confusion_matrix(y_true, y_predicted))\n",
        "\n",
        "  auc = roc_auc_score(y_true, y_predicted)\n",
        "  fpr, tpr, thresholds = roc_curve(y_true, y_predicted, pos_label=1)\n",
        "\n",
        "  plt.plot(fpr, tpr)\n",
        "  plt.plot([0, 1], [0, 1], '--')\n",
        "  plt.xlim(0, 1.01)\n",
        "  plt.ylim(0, 1.01)\n",
        "  plt.title('AUC: {}'.format(round(auc, 2)))"
      ],
      "execution_count": 9,
      "outputs": []
    },
    {
      "cell_type": "code",
      "metadata": {
        "id": "xQdk3LVnPCb9",
        "colab_type": "code",
        "colab": {}
      },
      "source": [
        "def binary_crossentropy(y_true, y_pred):\n",
        "    return K.mean(K.binary_crossentropy(y_true, y_pred), axis=-1)"
      ],
      "execution_count": 10,
      "outputs": []
    },
    {
      "cell_type": "code",
      "metadata": {
        "id": "3t-oc0o1iq-H",
        "colab_type": "code",
        "colab": {}
      },
      "source": [
        "model = Sequential()\n",
        "model.add(Dense(128, input_shape=(X_train_st.shape[1],), activation='relu'))\n",
        "model.add(Dropout(0.1))\n",
        "model.add(Dense(64, activation='relu'))\n",
        "model.add(Dropout(0.1))\n",
        "model.add(Dense(32, activation='relu'))\n",
        "model.add(Dropout(0.1))\n",
        "model.add(Dense(1, activation='sigmoid'))"
      ],
      "execution_count": 26,
      "outputs": []
    },
    {
      "cell_type": "code",
      "metadata": {
        "id": "Wa3lPwX2irEc",
        "colab_type": "code",
        "colab": {}
      },
      "source": [
        "model.compile(loss=binary_crossentropy, optimizer='adam', metrics=['acc'])"
      ],
      "execution_count": 27,
      "outputs": []
    },
    {
      "cell_type": "code",
      "metadata": {
        "id": "BuQS-8gQoQeJ",
        "colab_type": "code",
        "colab": {}
      },
      "source": [
        "callbacks = [\n",
        "    EarlyStopping(monitor='val_loss', patience=10, verbose=1),\n",
        "    ReduceLROnPlateau(monitor='val_loss', factor=0.1, patience=7, verbose=1, min_delta=1e-4, mode='min')\n",
        "    ]"
      ],
      "execution_count": 30,
      "outputs": []
    },
    {
      "cell_type": "code",
      "metadata": {
        "id": "QBdPPgNlirOm",
        "colab_type": "code",
        "colab": {
          "base_uri": "https://localhost:8080/",
          "height": 476
        },
        "outputId": "aa4725c4-65fd-46fe-e5b9-6e3fabd58f1c"
      },
      "source": [
        "callback_history = model.fit(X_train_st, Y_train, epochs=100, batch_size=256, validation_split = 0.3, callbacks=callbacks)"
      ],
      "execution_count": 31,
      "outputs": [
        {
          "output_type": "stream",
          "text": [
            "Epoch 1/100\n",
            "438/438 [==============================] - 2s 4ms/step - loss: 0.1036 - acc: 0.9618 - val_loss: 0.4036 - val_acc: 0.8922\n",
            "Epoch 2/100\n",
            "438/438 [==============================] - 2s 4ms/step - loss: 0.1033 - acc: 0.9623 - val_loss: 0.4025 - val_acc: 0.8950\n",
            "Epoch 3/100\n",
            "438/438 [==============================] - 2s 4ms/step - loss: 0.1028 - acc: 0.9614 - val_loss: 0.4228 - val_acc: 0.8947\n",
            "Epoch 4/100\n",
            "438/438 [==============================] - 2s 4ms/step - loss: 0.0998 - acc: 0.9634 - val_loss: 0.4164 - val_acc: 0.8948\n",
            "Epoch 5/100\n",
            "438/438 [==============================] - 2s 4ms/step - loss: 0.1004 - acc: 0.9636 - val_loss: 0.4126 - val_acc: 0.8925\n",
            "Epoch 6/100\n",
            "438/438 [==============================] - 2s 4ms/step - loss: 0.1013 - acc: 0.9628 - val_loss: 0.4207 - val_acc: 0.8930\n",
            "Epoch 7/100\n",
            "438/438 [==============================] - 2s 4ms/step - loss: 0.0986 - acc: 0.9637 - val_loss: 0.4248 - val_acc: 0.8953\n",
            "Epoch 8/100\n",
            "438/438 [==============================] - 2s 4ms/step - loss: 0.0976 - acc: 0.9644 - val_loss: 0.4076 - val_acc: 0.8918\n",
            "Epoch 9/100\n",
            "437/438 [============================>.] - ETA: 0s - loss: 0.0970 - acc: 0.9646\n",
            "Epoch 00009: ReduceLROnPlateau reducing learning rate to 0.00010000000474974513.\n",
            "438/438 [==============================] - 2s 4ms/step - loss: 0.0970 - acc: 0.9646 - val_loss: 0.4312 - val_acc: 0.8955\n",
            "Epoch 10/100\n",
            "438/438 [==============================] - 2s 4ms/step - loss: 0.0858 - acc: 0.9693 - val_loss: 0.4382 - val_acc: 0.8945\n",
            "Epoch 11/100\n",
            "438/438 [==============================] - 2s 4ms/step - loss: 0.0814 - acc: 0.9709 - val_loss: 0.4472 - val_acc: 0.8941\n",
            "Epoch 12/100\n",
            "438/438 [==============================] - 2s 4ms/step - loss: 0.0798 - acc: 0.9721 - val_loss: 0.4558 - val_acc: 0.8944\n",
            "Epoch 00012: early stopping\n"
          ],
          "name": "stdout"
        }
      ]
    },
    {
      "cell_type": "code",
      "metadata": {
        "id": "yEf_XwwMirRe",
        "colab_type": "code",
        "colab": {
          "base_uri": "https://localhost:8080/",
          "height": 88
        },
        "outputId": "54053dfb-9753-4e35-ab59-e016ca32d818"
      },
      "source": [
        "yhat_classes = model.predict_classes(X_test_st, verbose=0)"
      ],
      "execution_count": 32,
      "outputs": [
        {
          "output_type": "stream",
          "text": [
            "WARNING:tensorflow:From <ipython-input-32-ce82912de56e>:1: Sequential.predict_classes (from tensorflow.python.keras.engine.sequential) is deprecated and will be removed after 2021-01-01.\n",
            "Instructions for updating:\n",
            "Please use instead:* `np.argmax(model.predict(x), axis=-1)`,   if your model does multi-class classification   (e.g. if it uses a `softmax` last-layer activation).* `(model.predict(x) > 0.5).astype(\"int32\")`,   if your model does binary classification   (e.g. if it uses a `sigmoid` last-layer activation).\n"
          ],
          "name": "stdout"
        }
      ]
    },
    {
      "cell_type": "code",
      "metadata": {
        "id": "Ol6S5jPGirL2",
        "colab_type": "code",
        "colab": {}
      },
      "source": [
        "yhat_classes = yhat_classes.reshape(40000)"
      ],
      "execution_count": 36,
      "outputs": []
    },
    {
      "cell_type": "code",
      "metadata": {
        "id": "ZFjG_EXJPC7s",
        "colab_type": "code",
        "colab": {
          "base_uri": "https://localhost:8080/",
          "height": 485
        },
        "outputId": "50df5ae5-fe2a-4cf8-ea29-14d49db2f6d5"
      },
      "source": [
        "evaluate(Y_test, yhat_classes)"
      ],
      "execution_count": 45,
      "outputs": [
        {
          "output_type": "stream",
          "text": [
            "area under the ROC curve: 0.6092946624016572\n",
            "              precision    recall  f1-score   support\n",
            "\n",
            "         0.0       0.92      0.96      0.94     35951\n",
            "         1.0       0.43      0.26      0.32      4049\n",
            "\n",
            "    accuracy                           0.89     40000\n",
            "   macro avg       0.68      0.61      0.63     40000\n",
            "weighted avg       0.87      0.89      0.88     40000\n",
            "\n",
            "[[34602  1349]\n",
            " [ 3012  1037]]\n"
          ],
          "name": "stdout"
        },
        {
          "output_type": "display_data",
          "data": {
            "image/png": "[encoded data removed]",
            "text/plain": [
              "<Figure size 432x288 with 1 Axes>"
            ]
          },
          "metadata": {
            "tags": [],
            "needs_background": "light"
          }
        }
      ]
    }
  ]
}