{
  "nbformat": 4,
  "nbformat_minor": 0,
  "metadata": {
    "colab": {
      "name": "3_LGBM_Upsampled.ipynb",
      "provenance": [],
      "collapsed_sections": [],
      "toc_visible": true,
      "machine_shape": "hm"
    },
    "kernelspec": {
      "name": "python3",
      "display_name": "Python 3"
    }
  },
  "cells": [
    {
      "cell_type": "markdown",
      "metadata": {
        "id": "i9VWWdBLXKEt",
        "colab_type": "text"
      },
      "source": [
        "# Propensity modeling for Santander Customer Transaction\n"
      ]
    },
    {
      "cell_type": "markdown",
      "metadata": {
        "id": "CVx2nAWMfWwp",
        "colab_type": "text"
      },
      "source": [
        "## Importing libraries\n",
        "\n"
      ]
    },
    {
      "cell_type": "code",
      "metadata": {
        "id": "FnhFBcqSFkcS",
        "colab_type": "code",
        "colab": {
          "base_uri": "https://localhost:8080/",
          "height": 122
        },
        "outputId": "22e6d95d-f8a4-4256-a628-723efb98a053"
      },
      "source": [
        "from google.colab import drive\n",
        "drive.mount('/content/drive')"
      ],
      "execution_count": 1,
      "outputs": [
        {
          "output_type": "stream",
          "text": [
            "Go to this URL in a browser: https://accounts.google.com/o/oauth2/auth?client_id=947318989803-6bn6qk8qdgf4n4g3pfee6491hc0brc4i.apps.googleusercontent.com&redirect_uri=urn%3aietf%3awg%3aoauth%3a2.0%3aoob&scope=email%20https%3a%2f%2fwww.googleapis.com%2fauth%2fdocs.test%20https%3a%2f%2fwww.googleapis.com%2fauth%2fdrive%20https%3a%2f%2fwww.googleapis.com%2fauth%2fdrive.photos.readonly%20https%3a%2f%2fwww.googleapis.com%2fauth%2fpeopleapi.readonly&response_type=code\n",
            "\n",
            "Enter your authorization code:\n",
            "··········\n",
            "Mounted at /content/drive\n"
          ],
          "name": "stdout"
        }
      ]
    },
    {
      "cell_type": "code",
      "metadata": {
        "id": "8LgszbVDdSPX",
        "colab_type": "code",
        "colab": {
          "base_uri": "https://localhost:8080/",
          "height": 51
        },
        "outputId": "4a48bd07-f955-4a50-9ab6-80abcf4b976e"
      },
      "source": [
        "import pandas as pd\n",
        "from tqdm import tqdm\n",
        "from datetime import datetime\n",
        "import missingno as msno\n",
        "import numpy as np\n",
        "import time\n",
        "import gc\n",
        "\n",
        "from sklearn.ensemble import RandomForestClassifier\n",
        "from sklearn.metrics import roc_auc_score, make_scorer, classification_report, confusion_matrix, roc_curve\n",
        "from sklearn.model_selection import train_test_split, GridSearchCV, StratifiedKFold\n",
        "import lightgbm as lgb\n",
        "from sklearn.cluster import FeatureAgglomeration\n",
        "from sklearn.decomposition import PCA\n",
        "from sklearn.preprocessing import StandardScaler\n",
        "import IPython.display\n",
        "import matplotlib.pyplot as plt\n",
        "import seaborn as sns\n",
        "%matplotlib inline\n",
        "import plotly.offline as py\n",
        "py.init_notebook_mode(connected=True)\n",
        "import plotly.graph_objs as go\n",
        "import plotly.tools as tls\n",
        "from IPython.core.display import display, HTML, Javascript\n",
        "from string import Template\n",
        "\n"
      ],
      "execution_count": 2,
      "outputs": [
        {
          "output_type": "stream",
          "text": [
            "/usr/local/lib/python3.6/dist-packages/statsmodels/tools/_testing.py:19: FutureWarning: pandas.util.testing is deprecated. Use the functions in the public API at pandas.testing instead.\n",
            "  import pandas.util.testing as tm\n"
          ],
          "name": "stderr"
        },
        {
          "output_type": "display_data",
          "data": {
            "text/html": [
              "        <script type=\"text/javascript\">\n",
              "        window.PlotlyConfig = {MathJaxConfig: 'local'};\n",
              "        if (window.MathJax) {MathJax.Hub.Config({SVG: {font: \"STIX-Web\"}});}\n",
              "        if (typeof require !== 'undefined') {\n",
              "        require.undef(\"plotly\");\n",
              "        requirejs.config({\n",
              "            paths: {\n",
              "                'plotly': ['https://cdn.plot.ly/plotly-latest.min']\n",
              "            }\n",
              "        });\n",
              "        require(['plotly'], function(Plotly) {\n",
              "            window._Plotly = Plotly;\n",
              "        });\n",
              "        }\n",
              "        </script>\n",
              "        "
            ]
          },
          "metadata": {
            "tags": []
          }
        }
      ]
    },
    {
      "cell_type": "markdown",
      "metadata": {
        "id": "bhvd0iAkHsrM",
        "colab_type": "text"
      },
      "source": [
        "## Loading and optimizing data"
      ]
    },
    {
      "cell_type": "code",
      "metadata": {
        "id": "QhmAhxLsGAl8",
        "colab_type": "code",
        "colab": {}
      },
      "source": [
        "def reduce_mem_usage(df, verbose=True):\n",
        "  \"\"\" iterate through all the columns of a dataframe and modify the data type\n",
        "      to reduce memory usage.        \n",
        "  \"\"\"    \n",
        "  numerics = ['int16', 'int32', 'int64', 'float16', 'float32', 'float64']\n",
        "  start_mem = df.memory_usage().sum() / 1024**2    \n",
        "  print('Memory usage of dataframe is {:.2f} MB'.format(start_mem))    \n",
        "  \n",
        "  for col in df.columns:\n",
        "      col_type = df[col].dtypes\n",
        "      if col_type in numerics:\n",
        "          c_min = df[col].min()\n",
        "          c_max = df[col].max()\n",
        "          if str(col_type)[:3] == 'int':\n",
        "              if c_min > np.iinfo(np.int8).min and c_max < np.iinfo(np.int8).max:\n",
        "                  df[col] = df[col].astype(np.int8)\n",
        "              elif c_min > np.iinfo(np.int16).min and c_max < np.iinfo(np.int16).max:\n",
        "                  df[col] = df[col].astype(np.int16)\n",
        "              elif c_min > np.iinfo(np.int32).min and c_max < np.iinfo(np.int32).max:\n",
        "                  df[col] = df[col].astype(np.int32)\n",
        "              elif c_min > np.iinfo(np.int64).min and c_max < np.iinfo(np.int64).max:\n",
        "                  df[col] = df[col].astype(np.int64)  \n",
        "          else:\n",
        "              if c_min > np.finfo(np.float16).min and c_max < np.finfo(np.float16).max:\n",
        "                  df[col] = df[col].astype(np.float16)\n",
        "              elif c_min > np.finfo(np.float32).min and c_max < np.finfo(np.float32).max:\n",
        "                  df[col] = df[col].astype(np.float32)\n",
        "              else:\n",
        "                  df[col] = df[col].astype(np.float64)\n",
        "                  \n",
        "  end_mem = df.memory_usage().sum() / 1024**2\n",
        "  print('Memory usage after optimization is: {:.2f} MB'.format(end_mem))\n",
        "  print('Decreased by {:.1f}%'.format(100 * (start_mem - end_mem) / start_mem))\n",
        "  return df"
      ],
      "execution_count": 3,
      "outputs": []
    },
    {
      "cell_type": "code",
      "metadata": {
        "id": "_gfOoMCXF2IJ",
        "colab_type": "code",
        "colab": {
          "base_uri": "https://localhost:8080/",
          "height": 70
        },
        "outputId": "135eafed-970e-405e-89d9-fc28a9819e29"
      },
      "source": [
        "df = pd.read_csv('drive/My Drive/Colab Notebooks/Santander Customer Transaction Prediction/data/resampled_train.csv')\n",
        "# df.drop(['ID_code'], axis=1, inplace=True)\n",
        "df = reduce_mem_usage(df, verbose=True)"
      ],
      "execution_count": 13,
      "outputs": [
        {
          "output_type": "stream",
          "text": [
            "Memory usage of dataframe is 450.83 MB\n",
            "Memory usage after optimization is: 112.43 MB\n",
            "Decreased by 75.1%\n"
          ],
          "name": "stdout"
        }
      ]
    },
    {
      "cell_type": "code",
      "metadata": {
        "id": "AzzlQeV8eXgs",
        "colab_type": "code",
        "colab": {
          "base_uri": "https://localhost:8080/",
          "height": 105
        },
        "outputId": "63d0f1f0-0524-459d-d8bd-5c022e5ef54c"
      },
      "source": [
        "df.columns"
      ],
      "execution_count": 14,
      "outputs": [
        {
          "output_type": "execute_result",
          "data": {
            "text/plain": [
              "Index(['0', '1', '2', '3', '4', '5', '6', '7', '8', '9',\n",
              "       ...\n",
              "       '191', '192', '193', '194', '195', '196', '197', '198', '199',\n",
              "       'target'],\n",
              "      dtype='object', length=201)"
            ]
          },
          "metadata": {
            "tags": []
          },
          "execution_count": 14
        }
      ]
    },
    {
      "cell_type": "code",
      "metadata": {
        "id": "ULpmeCZdes58",
        "colab_type": "code",
        "colab": {
          "base_uri": "https://localhost:8080/",
          "height": 228
        },
        "outputId": "5fc72b2b-881e-41e7-d589-21339e91adf2"
      },
      "source": [
        "df.isnull().sum()"
      ],
      "execution_count": 15,
      "outputs": [
        {
          "output_type": "execute_result",
          "data": {
            "text/plain": [
              "0         0\n",
              "1         0\n",
              "2         0\n",
              "3         0\n",
              "4         0\n",
              "         ..\n",
              "196       0\n",
              "197       0\n",
              "198       0\n",
              "199       0\n",
              "target    0\n",
              "Length: 201, dtype: int64"
            ]
          },
          "metadata": {
            "tags": []
          },
          "execution_count": 15
        }
      ]
    },
    {
      "cell_type": "markdown",
      "metadata": {
        "id": "UBbwHnhVXEf7",
        "colab_type": "text"
      },
      "source": [
        "## Data Sampling"
      ]
    },
    {
      "cell_type": "code",
      "metadata": {
        "id": "cZxnPVbrM-Fi",
        "colab_type": "code",
        "colab": {}
      },
      "source": [
        "df_x = df.drop(['target'], axis=1)\n",
        "df_y = df[['target']]\n",
        "features = list(df_x.columns.values)\n",
        "\n",
        "X_train, X_test, Y_train, Y_test = train_test_split(df_x, df_y, shuffle=False, train_size=0.8)"
      ],
      "execution_count": 16,
      "outputs": []
    },
    {
      "cell_type": "code",
      "metadata": {
        "id": "b3P5ub0XY0qr",
        "colab_type": "code",
        "colab": {
          "base_uri": "https://localhost:8080/",
          "height": 35
        },
        "outputId": "7eddb54d-6740-4ce9-efb7-8d632762b483"
      },
      "source": [
        "X_train.shape, X_test.shape"
      ],
      "execution_count": 7,
      "outputs": [
        {
          "output_type": "execute_result",
          "data": {
            "text/plain": [
              "((470374, 200), (117594, 200))"
            ]
          },
          "metadata": {
            "tags": []
          },
          "execution_count": 7
        }
      ]
    },
    {
      "cell_type": "code",
      "metadata": {
        "id": "FeyOkFg1czB2",
        "colab_type": "code",
        "colab": {}
      },
      "source": [
        "def evaluate(y_true, y_predicted):\n",
        "  print(\"area under the ROC curve:\", roc_auc_score(y_true, y_predicted))\n",
        "  print(classification_report(y_true, y_predicted))\n",
        "  print(confusion_matrix(y_true, y_predicted))\n",
        "\n",
        "  auc = roc_auc_score(y_true, y_predicted)\n",
        "  fpr, tpr, thresholds = roc_curve(y_true, y_predicted, pos_label=1)\n",
        "\n",
        "  plt.plot(fpr, tpr)\n",
        "  plt.plot([0, 1], [0, 1], '--')\n",
        "  plt.xlim(0, 1.01)\n",
        "  plt.ylim(0, 1.01)\n",
        "  plt.title('AUC: {}'.format(round(auc, 2)))"
      ],
      "execution_count": 17,
      "outputs": []
    },
    {
      "cell_type": "code",
      "metadata": {
        "id": "xQdk3LVnPCb9",
        "colab_type": "code",
        "colab": {}
      },
      "source": [
        "folds = StratifiedKFold(n_splits=7, shuffle=True, random_state=47)\n",
        "oof = np.zeros(X_train.shape[0])\n",
        "getVal = np.zeros(X_train.shape[0])\n",
        "predictions = np.zeros(X_test.shape[0])\n",
        "feature_importance_df = pd.DataFrame()"
      ],
      "execution_count": 18,
      "outputs": []
    },
    {
      "cell_type": "code",
      "metadata": {
        "id": "VErfabFoPCkt",
        "colab_type": "code",
        "colab": {
          "base_uri": "https://localhost:8080/",
          "height": 1000
        },
        "outputId": "a150c4e1-96bc-403a-b92b-872a5fdd4e7c"
      },
      "source": [
        "for n_fold, (train_idx, valid_idx) in enumerate(folds.split(X_train, Y_train)):\n",
        "\n",
        "    train_x, train_y = X_train.iloc[train_idx], Y_train.iloc[train_idx]\n",
        "    valid_x, valid_y = X_train.iloc[valid_idx], Y_train.iloc[valid_idx]\n",
        "\n",
        "    train_data = lgb.Dataset(train_x, label=train_y)\n",
        "    valid_data = lgb.Dataset(valid_x, label=valid_y)\n",
        "\n",
        "    param = {\n",
        "        \"objective\": \"binary\",\n",
        "        \"metric\": \"auc\",\n",
        "        \"boosting\": 'gbdt',\n",
        "        \"max_depth\": -1,\n",
        "        \"num_leaves\": 31,\n",
        "        \"learning_rate\": 0.01,\n",
        "        \"bagging_freq\": 5,\n",
        "        \"bagging_fraction\": 0.4,\n",
        "        \"feature_fraction\": 0.05,\n",
        "        \"min_data_in_leaf\": 150,\n",
        "        \"min_sum_heassian_in_leaf\": 10,\n",
        "        \"tree_learner\": \"serial\",\n",
        "        \"boost_from_average\": \"false\",\n",
        "        \"bagging_seed\": 42,\n",
        "        \"verbosity\": 1,\n",
        "        \"seed\": 42}\n",
        "\n",
        "    clf = lgb.train(param, train_data, 1000000, valid_sets=[train_data, valid_data], verbose_eval=500,\n",
        "                    early_stopping_rounds=200)\n",
        "    oof[valid_idx] = clf.predict(X_train.iloc[valid_idx], num_iteration=clf.best_iteration)\n",
        "    getVal[valid_idx] += clf.predict(X_train.iloc[valid_idx], num_iteration=clf.best_iteration) / folds.n_splits\n",
        "\n",
        "    fold_importance_df = pd.DataFrame()\n",
        "    fold_importance_df[\"feature\"] = features\n",
        "    fold_importance_df[\"importance\"] = clf.feature_importance()\n",
        "    fold_importance_df[\"fold\"] = n_fold + 1\n",
        "    feature_importance_df = pd.concat([feature_importance_df, fold_importance_df], axis=0)\n",
        "\n",
        "    predictions += clf.predict(X_test, num_iteration=clf.best_iteration) / folds.n_splits"
      ],
      "execution_count": null,
      "outputs": [
        {
          "output_type": "stream",
          "text": [
            "Training until validation scores don't improve for 200 rounds.\n",
            "[500]\ttraining's auc: 0.925928\tvalid_1's auc: 0.918081\n",
            "[1000]\ttraining's auc: 0.937472\tvalid_1's auc: 0.928268\n",
            "[1500]\ttraining's auc: 0.946696\tvalid_1's auc: 0.936143\n",
            "[2000]\ttraining's auc: 0.953749\tvalid_1's auc: 0.942195\n",
            "[2500]\ttraining's auc: 0.959064\tvalid_1's auc: 0.946479\n",
            "[3000]\ttraining's auc: 0.963192\tvalid_1's auc: 0.949873\n",
            "[3500]\ttraining's auc: 0.966649\tvalid_1's auc: 0.952561\n",
            "[4000]\ttraining's auc: 0.969568\tvalid_1's auc: 0.954681\n",
            "[4500]\ttraining's auc: 0.972166\tvalid_1's auc: 0.956564\n",
            "[5000]\ttraining's auc: 0.97446\tvalid_1's auc: 0.958093\n",
            "[5500]\ttraining's auc: 0.976542\tvalid_1's auc: 0.959508\n",
            "[6000]\ttraining's auc: 0.978446\tvalid_1's auc: 0.960774\n",
            "[6500]\ttraining's auc: 0.980214\tvalid_1's auc: 0.961999\n",
            "[7000]\ttraining's auc: 0.981829\tvalid_1's auc: 0.963104\n",
            "[7500]\ttraining's auc: 0.983325\tvalid_1's auc: 0.964121\n",
            "[8000]\ttraining's auc: 0.984709\tvalid_1's auc: 0.964994\n",
            "[8500]\ttraining's auc: 0.986016\tvalid_1's auc: 0.965901\n",
            "[9000]\ttraining's auc: 0.987206\tvalid_1's auc: 0.966687\n",
            "[9500]\ttraining's auc: 0.988302\tvalid_1's auc: 0.96747\n",
            "[10000]\ttraining's auc: 0.989313\tvalid_1's auc: 0.968228\n",
            "[10500]\ttraining's auc: 0.990268\tvalid_1's auc: 0.968938\n",
            "[11000]\ttraining's auc: 0.991124\tvalid_1's auc: 0.969607\n",
            "[11500]\ttraining's auc: 0.991931\tvalid_1's auc: 0.970213\n",
            "[12000]\ttraining's auc: 0.992677\tvalid_1's auc: 0.970789\n",
            "[12500]\ttraining's auc: 0.993362\tvalid_1's auc: 0.971343\n",
            "[13000]\ttraining's auc: 0.99398\tvalid_1's auc: 0.971864\n",
            "[13500]\ttraining's auc: 0.99456\tvalid_1's auc: 0.972338\n",
            "[14000]\ttraining's auc: 0.995089\tvalid_1's auc: 0.972809\n",
            "[14500]\ttraining's auc: 0.99557\tvalid_1's auc: 0.973279\n",
            "[15000]\ttraining's auc: 0.996012\tvalid_1's auc: 0.973674\n",
            "[15500]\ttraining's auc: 0.996421\tvalid_1's auc: 0.974066\n",
            "[16000]\ttraining's auc: 0.996797\tvalid_1's auc: 0.974437\n",
            "[16500]\ttraining's auc: 0.997139\tvalid_1's auc: 0.974805\n",
            "[17000]\ttraining's auc: 0.99744\tvalid_1's auc: 0.975152\n",
            "[17500]\ttraining's auc: 0.997723\tvalid_1's auc: 0.975491\n",
            "[18000]\ttraining's auc: 0.997974\tvalid_1's auc: 0.975814\n",
            "[18500]\ttraining's auc: 0.998202\tvalid_1's auc: 0.976131\n",
            "[19000]\ttraining's auc: 0.998413\tvalid_1's auc: 0.976414\n",
            "[19500]\ttraining's auc: 0.998599\tvalid_1's auc: 0.976709\n",
            "[20000]\ttraining's auc: 0.998763\tvalid_1's auc: 0.976976\n",
            "[20500]\ttraining's auc: 0.998915\tvalid_1's auc: 0.977243\n",
            "[21000]\ttraining's auc: 0.999047\tvalid_1's auc: 0.977483\n",
            "[21500]\ttraining's auc: 0.999167\tvalid_1's auc: 0.977716\n",
            "[22000]\ttraining's auc: 0.999274\tvalid_1's auc: 0.977939\n",
            "[22500]\ttraining's auc: 0.999373\tvalid_1's auc: 0.978131\n",
            "[23000]\ttraining's auc: 0.999457\tvalid_1's auc: 0.978369\n",
            "[23500]\ttraining's auc: 0.999532\tvalid_1's auc: 0.978582\n",
            "[24000]\ttraining's auc: 0.999598\tvalid_1's auc: 0.978807\n",
            "[24500]\ttraining's auc: 0.999655\tvalid_1's auc: 0.978989\n",
            "[25000]\ttraining's auc: 0.999707\tvalid_1's auc: 0.979174\n",
            "[25500]\ttraining's auc: 0.99975\tvalid_1's auc: 0.979341\n",
            "[26000]\ttraining's auc: 0.99979\tvalid_1's auc: 0.979507\n",
            "[26500]\ttraining's auc: 0.999824\tvalid_1's auc: 0.979674\n",
            "[27000]\ttraining's auc: 0.999853\tvalid_1's auc: 0.979817\n",
            "[27500]\ttraining's auc: 0.999877\tvalid_1's auc: 0.979975\n",
            "[28000]\ttraining's auc: 0.999898\tvalid_1's auc: 0.980124\n",
            "[28500]\ttraining's auc: 0.999916\tvalid_1's auc: 0.980272\n",
            "[29000]\ttraining's auc: 0.999931\tvalid_1's auc: 0.980402\n",
            "[29500]\ttraining's auc: 0.999944\tvalid_1's auc: 0.980535\n",
            "[30000]\ttraining's auc: 0.999953\tvalid_1's auc: 0.980645\n",
            "[30500]\ttraining's auc: 0.999963\tvalid_1's auc: 0.980763\n",
            "[31000]\ttraining's auc: 0.999969\tvalid_1's auc: 0.980871\n",
            "[31500]\ttraining's auc: 0.999975\tvalid_1's auc: 0.980978\n",
            "[32000]\ttraining's auc: 0.999979\tvalid_1's auc: 0.981078\n",
            "[32500]\ttraining's auc: 0.999983\tvalid_1's auc: 0.981203\n",
            "[33000]\ttraining's auc: 0.999986\tvalid_1's auc: 0.981285\n",
            "[33500]\ttraining's auc: 0.999988\tvalid_1's auc: 0.981401\n",
            "[34000]\ttraining's auc: 0.999989\tvalid_1's auc: 0.981469\n",
            "[34500]\ttraining's auc: 0.999991\tvalid_1's auc: 0.981555\n",
            "[35000]\ttraining's auc: 0.999992\tvalid_1's auc: 0.981644\n",
            "[35500]\ttraining's auc: 0.999992\tvalid_1's auc: 0.981734\n",
            "[36000]\ttraining's auc: 0.999993\tvalid_1's auc: 0.981813\n",
            "[36500]\ttraining's auc: 0.999993\tvalid_1's auc: 0.9819\n",
            "[37000]\ttraining's auc: 0.999993\tvalid_1's auc: 0.981974\n",
            "[37500]\ttraining's auc: 0.999993\tvalid_1's auc: 0.982061\n",
            "Early stopping, best iteration is:\n",
            "[37373]\ttraining's auc: 0.999993\tvalid_1's auc: 0.982037\n",
            "Training until validation scores don't improve for 200 rounds.\n",
            "[500]\ttraining's auc: 0.926087\tvalid_1's auc: 0.916148\n",
            "[1000]\ttraining's auc: 0.93737\tvalid_1's auc: 0.925953\n",
            "[1500]\ttraining's auc: 0.946799\tvalid_1's auc: 0.934417\n",
            "[2000]\ttraining's auc: 0.953917\tvalid_1's auc: 0.940672\n",
            "[2500]\ttraining's auc: 0.959213\tvalid_1's auc: 0.945151\n",
            "[3000]\ttraining's auc: 0.9634\tvalid_1's auc: 0.948619\n",
            "[3500]\ttraining's auc: 0.966856\tvalid_1's auc: 0.95134\n",
            "[4000]\ttraining's auc: 0.969806\tvalid_1's auc: 0.953592\n",
            "[4500]\ttraining's auc: 0.972345\tvalid_1's auc: 0.955414\n",
            "[5000]\ttraining's auc: 0.974694\tvalid_1's auc: 0.957072\n",
            "[5500]\ttraining's auc: 0.976777\tvalid_1's auc: 0.958439\n",
            "[6000]\ttraining's auc: 0.978679\tvalid_1's auc: 0.959712\n",
            "[6500]\ttraining's auc: 0.980454\tvalid_1's auc: 0.96094\n",
            "[7000]\ttraining's auc: 0.982075\tvalid_1's auc: 0.962003\n",
            "[7500]\ttraining's auc: 0.983577\tvalid_1's auc: 0.963013\n",
            "[8000]\ttraining's auc: 0.984957\tvalid_1's auc: 0.963945\n",
            "[8500]\ttraining's auc: 0.98624\tvalid_1's auc: 0.964801\n",
            "[9000]\ttraining's auc: 0.987414\tvalid_1's auc: 0.965572\n",
            "[9500]\ttraining's auc: 0.9885\tvalid_1's auc: 0.966339\n",
            "[10000]\ttraining's auc: 0.989498\tvalid_1's auc: 0.966999\n",
            "[10500]\ttraining's auc: 0.990442\tvalid_1's auc: 0.96766\n",
            "[11000]\ttraining's auc: 0.991296\tvalid_1's auc: 0.968267\n",
            "[11500]\ttraining's auc: 0.992096\tvalid_1's auc: 0.968841\n",
            "[12000]\ttraining's auc: 0.992826\tvalid_1's auc: 0.969376\n",
            "[12500]\ttraining's auc: 0.993507\tvalid_1's auc: 0.969932\n",
            "[13000]\ttraining's auc: 0.994129\tvalid_1's auc: 0.970437\n",
            "[13500]\ttraining's auc: 0.9947\tvalid_1's auc: 0.970919\n",
            "[14000]\ttraining's auc: 0.99521\tvalid_1's auc: 0.971361\n",
            "[14500]\ttraining's auc: 0.995696\tvalid_1's auc: 0.971819\n",
            "[15000]\ttraining's auc: 0.996128\tvalid_1's auc: 0.97222\n",
            "[15500]\ttraining's auc: 0.996523\tvalid_1's auc: 0.972611\n",
            "[16000]\ttraining's auc: 0.996881\tvalid_1's auc: 0.973014\n",
            "[16500]\ttraining's auc: 0.997208\tvalid_1's auc: 0.97337\n",
            "[17000]\ttraining's auc: 0.997508\tvalid_1's auc: 0.973712\n",
            "[17500]\ttraining's auc: 0.997785\tvalid_1's auc: 0.974052\n",
            "[18000]\ttraining's auc: 0.998032\tvalid_1's auc: 0.974381\n",
            "[18500]\ttraining's auc: 0.998258\tvalid_1's auc: 0.974702\n",
            "[19000]\ttraining's auc: 0.998463\tvalid_1's auc: 0.975032\n",
            "[19500]\ttraining's auc: 0.998643\tvalid_1's auc: 0.975292\n",
            "[20000]\ttraining's auc: 0.998809\tvalid_1's auc: 0.975566\n",
            "[20500]\ttraining's auc: 0.998952\tvalid_1's auc: 0.975813\n",
            "[21000]\ttraining's auc: 0.99908\tvalid_1's auc: 0.976039\n",
            "[21500]\ttraining's auc: 0.999197\tvalid_1's auc: 0.976267\n",
            "[22000]\ttraining's auc: 0.999302\tvalid_1's auc: 0.976489\n",
            "[22500]\ttraining's auc: 0.999393\tvalid_1's auc: 0.976692\n",
            "[23000]\ttraining's auc: 0.999476\tvalid_1's auc: 0.976912\n",
            "[23500]\ttraining's auc: 0.99955\tvalid_1's auc: 0.977121\n",
            "[24000]\ttraining's auc: 0.999613\tvalid_1's auc: 0.977324\n",
            "[24500]\ttraining's auc: 0.999669\tvalid_1's auc: 0.97749\n",
            "[25000]\ttraining's auc: 0.999718\tvalid_1's auc: 0.977668\n",
            "[25500]\ttraining's auc: 0.999762\tvalid_1's auc: 0.97786\n",
            "[26000]\ttraining's auc: 0.999798\tvalid_1's auc: 0.978026\n",
            "[26500]\ttraining's auc: 0.999831\tvalid_1's auc: 0.978204\n",
            "[27000]\ttraining's auc: 0.999859\tvalid_1's auc: 0.978373\n",
            "[27500]\ttraining's auc: 0.999881\tvalid_1's auc: 0.978512\n",
            "[28000]\ttraining's auc: 0.999901\tvalid_1's auc: 0.978649\n",
            "[28500]\ttraining's auc: 0.999919\tvalid_1's auc: 0.978806\n",
            "[29000]\ttraining's auc: 0.999933\tvalid_1's auc: 0.978921\n",
            "[29500]\ttraining's auc: 0.999946\tvalid_1's auc: 0.979055\n",
            "[30000]\ttraining's auc: 0.999956\tvalid_1's auc: 0.979183\n",
            "[30500]\ttraining's auc: 0.999964\tvalid_1's auc: 0.979324\n",
            "[31000]\ttraining's auc: 0.999972\tvalid_1's auc: 0.97945\n",
            "[31500]\ttraining's auc: 0.999978\tvalid_1's auc: 0.979572\n",
            "[32000]\ttraining's auc: 0.999983\tvalid_1's auc: 0.97969\n",
            "[32500]\ttraining's auc: 0.999986\tvalid_1's auc: 0.979796\n",
            "[33000]\ttraining's auc: 0.999989\tvalid_1's auc: 0.979904\n",
            "[33500]\ttraining's auc: 0.999992\tvalid_1's auc: 0.980025\n",
            "[34000]\ttraining's auc: 0.999994\tvalid_1's auc: 0.980129\n",
            "[34500]\ttraining's auc: 0.999995\tvalid_1's auc: 0.980231\n",
            "[35000]\ttraining's auc: 0.999996\tvalid_1's auc: 0.980322\n",
            "[35500]\ttraining's auc: 0.999997\tvalid_1's auc: 0.980406\n",
            "[36000]\ttraining's auc: 0.999998\tvalid_1's auc: 0.98049\n",
            "[36500]\ttraining's auc: 0.999999\tvalid_1's auc: 0.980581\n",
            "[37000]\ttraining's auc: 0.999999\tvalid_1's auc: 0.98066\n",
            "[37500]\ttraining's auc: 1\tvalid_1's auc: 0.980738\n",
            "[38000]\ttraining's auc: 1\tvalid_1's auc: 0.980825\n",
            "[38500]\ttraining's auc: 1\tvalid_1's auc: 0.980904\n",
            "[39000]\ttraining's auc: 1\tvalid_1's auc: 0.980976\n",
            "[39500]\ttraining's auc: 1\tvalid_1's auc: 0.98105\n",
            "[40000]\ttraining's auc: 1\tvalid_1's auc: 0.981115\n",
            "[40500]\ttraining's auc: 1\tvalid_1's auc: 0.981185\n",
            "[41000]\ttraining's auc: 1\tvalid_1's auc: 0.981249\n",
            "[41500]\ttraining's auc: 1\tvalid_1's auc: 0.981304\n",
            "[42000]\ttraining's auc: 1\tvalid_1's auc: 0.981375\n"
          ],
          "name": "stdout"
        }
      ]
    },
    {
      "cell_type": "code",
      "metadata": {
        "id": "DXUYXLY1bhA2",
        "colab_type": "code",
        "colab": {}
      },
      "source": [
        "cols = (feature_importance_df[[\"feature\", \"importance\"]]\n",
        "            .groupby(\"feature\")\n",
        "            .mean()\n",
        "            .sort_values(by=\"importance\", ascending=False)[:1000].index)\n",
        "best_features = feature_importance_df.loc[feature_importance_df.feature.isin(cols)]\n",
        "\n",
        "plt.figure(figsize=(14, 26))\n",
        "sns.barplot(x=\"importance\", y=\"feature\", data=best_features.sort_values(by=\"importance\", ascending=False))\n",
        "plt.title('LightGBM Features (averaged over folds)')\n",
        "plt.tight_layout()\n",
        "plt.savefig('lgbm_importances.png')"
      ],
      "execution_count": null,
      "outputs": []
    },
    {
      "cell_type": "code",
      "metadata": {
        "id": "JXcS3BEJPCnu",
        "colab_type": "code",
        "colab": {
          "base_uri": "https://localhost:8080/",
          "height": 51
        },
        "outputId": "cc7d97df-9f76-489a-a20a-16d6ebb19096"
      },
      "source": [
        "print(\"CV score (Validation): {:<8.5f}\".format(roc_auc_score(Y_train, oof)))\n",
        "print(\"CV score (Test): {:<8.5f}\".format(roc_auc_score(Y_test, predictions)))"
      ],
      "execution_count": null,
      "outputs": [
        {
          "output_type": "stream",
          "text": [
            "CV score (Validation): 0.89736 \n",
            "CV score (Test): 0.90237 \n"
          ],
          "name": "stdout"
        }
      ]
    },
    {
      "cell_type": "code",
      "metadata": {
        "id": "ZFjG_EXJPC7s",
        "colab_type": "code",
        "colab": {}
      },
      "source": [
        "y_pred = np.zeros(predictions.shape[0])\n",
        "y_pred[predictions >= 0.1] = 1\n",
        "evaluate(Y_test, y_pred)"
      ],
      "execution_count": null,
      "outputs": []
    },
    {
      "cell_type": "code",
      "metadata": {
        "id": "r1tyZbggPC3t",
        "colab_type": "code",
        "colab": {}
      },
      "source": [
        "threshold_data = []\n",
        "for t in np.linspace(0.05, 0.15, num=1000):\n",
        "\n",
        "  y_pred = np.zeros(predictions.shape[0])\n",
        "  y_pred[predictions >= t] = 1\n",
        "  auc = roc_auc_score(Y_test, y_pred)\n",
        "  threshold_data.append([t, auc])\n",
        "\n",
        "threshold_df = pd.DataFrame(threshold_data, columns=['Threshold', 'AUC'])"
      ],
      "execution_count": null,
      "outputs": []
    },
    {
      "cell_type": "code",
      "metadata": {
        "id": "kAzjPSZ9PCwJ",
        "colab_type": "code",
        "colab": {
          "base_uri": "https://localhost:8080/",
          "height": 296
        },
        "outputId": "00c69b08-69c6-452f-dac2-37c23c86e675"
      },
      "source": [
        "sns.lineplot(x=\"Threshold\", y=\"AUC\", data=threshold_df)"
      ],
      "execution_count": null,
      "outputs": [
        {
          "output_type": "execute_result",
          "data": {
            "text/plain": [
              "<matplotlib.axes._subplots.AxesSubplot at 0x7f6a77c71160>"
            ]
          },
          "metadata": {
            "tags": []
          },
          "execution_count": 37
        },
        {
          "output_type": "display_data",
          "data": {
            "image/png": "[encoded data removed]",
            "text/plain": [
              "<Figure size 432x288 with 1 Axes>"
            ]
          },
          "metadata": {
            "tags": [],
            "needs_background": "light"
          }
        }
      ]
    },
    {
      "cell_type": "code",
      "metadata": {
        "id": "ibK0p7v2PCtt",
        "colab_type": "code",
        "colab": {
          "base_uri": "https://localhost:8080/",
          "height": 297
        },
        "outputId": "5f2db740-3954-41d3-9ed7-f6a2e8924a97"
      },
      "source": [
        "threshold_df.describe()"
      ],
      "execution_count": null,
      "outputs": [
        {
          "output_type": "execute_result",
          "data": {
            "text/html": [
              "<div>\n",
              "<style scoped>\n",
              "    .dataframe tbody tr th:only-of-type {\n",
              "        vertical-align: middle;\n",
              "    }\n",
              "\n",
              "    .dataframe tbody tr th {\n",
              "        vertical-align: top;\n",
              "    }\n",
              "\n",
              "    .dataframe thead th {\n",
              "        text-align: right;\n",
              "    }\n",
              "</style>\n",
              "<table border=\"1\" class=\"dataframe\">\n",
              "  <thead>\n",
              "    <tr style=\"text-align: right;\">\n",
              "      <th></th>\n",
              "      <th>Threshold</th>\n",
              "      <th>AUC</th>\n",
              "    </tr>\n",
              "  </thead>\n",
              "  <tbody>\n",
              "    <tr>\n",
              "      <th>count</th>\n",
              "      <td>1000.000000</td>\n",
              "      <td>1000.000000</td>\n",
              "    </tr>\n",
              "    <tr>\n",
              "      <th>mean</th>\n",
              "      <td>0.100000</td>\n",
              "      <td>0.809011</td>\n",
              "    </tr>\n",
              "    <tr>\n",
              "      <th>std</th>\n",
              "      <td>0.028911</td>\n",
              "      <td>0.016811</td>\n",
              "    </tr>\n",
              "    <tr>\n",
              "      <th>min</th>\n",
              "      <td>0.050000</td>\n",
              "      <td>0.755886</td>\n",
              "    </tr>\n",
              "    <tr>\n",
              "      <th>25%</th>\n",
              "      <td>0.075000</td>\n",
              "      <td>0.803697</td>\n",
              "    </tr>\n",
              "    <tr>\n",
              "      <th>50%</th>\n",
              "      <td>0.100000</td>\n",
              "      <td>0.816691</td>\n",
              "    </tr>\n",
              "    <tr>\n",
              "      <th>75%</th>\n",
              "      <td>0.125000</td>\n",
              "      <td>0.820629</td>\n",
              "    </tr>\n",
              "    <tr>\n",
              "      <th>max</th>\n",
              "      <td>0.150000</td>\n",
              "      <td>0.822238</td>\n",
              "    </tr>\n",
              "  </tbody>\n",
              "</table>\n",
              "</div>"
            ],
            "text/plain": [
              "         Threshold          AUC\n",
              "count  1000.000000  1000.000000\n",
              "mean      0.100000     0.809011\n",
              "std       0.028911     0.016811\n",
              "min       0.050000     0.755886\n",
              "25%       0.075000     0.803697\n",
              "50%       0.100000     0.816691\n",
              "75%       0.125000     0.820629\n",
              "max       0.150000     0.822238"
            ]
          },
          "metadata": {
            "tags": []
          },
          "execution_count": 38
        }
      ]
    },
    {
      "cell_type": "code",
      "metadata": {
        "id": "WoSBgK-QPCrR",
        "colab_type": "code",
        "colab": {}
      },
      "source": [
        "best_threshold = threshold_df.loc[threshold_df['AUC'].idxmax(), 'Threshold']"
      ],
      "execution_count": null,
      "outputs": []
    },
    {
      "cell_type": "code",
      "metadata": {
        "id": "eQM9bNZhPChn",
        "colab_type": "code",
        "colab": {
          "base_uri": "https://localhost:8080/",
          "height": 492
        },
        "outputId": "731e6fe8-3ee9-460b-c1df-87e01477d45b"
      },
      "source": [
        "y_pred = np.zeros(predictions.shape[0])\n",
        "y_pred[predictions >= best_threshold] = 1\n",
        "evaluate(Y_test, y_pred)"
      ],
      "execution_count": null,
      "outputs": [
        {
          "output_type": "stream",
          "text": [
            "area under the ROC curve: 0.8222375054424775\n",
            "              precision    recall  f1-score   support\n",
            "\n",
            "           0       0.98      0.83      0.90     35951\n",
            "           1       0.35      0.82      0.49      4049\n",
            "\n",
            "    accuracy                           0.83     40000\n",
            "   macro avg       0.66      0.82      0.69     40000\n",
            "weighted avg       0.91      0.83      0.86     40000\n",
            "\n",
            "[[29811  6140]\n",
            " [  748  3301]]\n"
          ],
          "name": "stdout"
        },
        {
          "output_type": "display_data",
          "data": {
            "image/png": "[encoded data removed]",
            "text/plain": [
              "<Figure size 432x288 with 1 Axes>"
            ]
          },
          "metadata": {
            "tags": [],
            "needs_background": "light"
          }
        }
      ]
    }
  ]
}